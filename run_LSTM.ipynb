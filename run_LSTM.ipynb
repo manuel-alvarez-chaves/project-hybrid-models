{
 "cells": [
  {
   "cell_type": "code",
   "execution_count": 1,
   "id": "919d181c",
   "metadata": {},
   "outputs": [],
   "source": [
    "import datetime\n",
    "import time\n",
    "\n",
    "import matplotlib.pyplot as plt\n",
    "import yaml\n",
    "from hy2dl.modelzoo import get_model\n",
    "from hy2dl.utils.config import Config\n",
    "from hy2dl.utils.utils import set_random_seed\n",
    "from tqdm import trange\n",
    "from utilities.data import DataHandler\n",
    "from utilities.postprocessing import Postprocessor\n",
    "from utilities.training import Trainer"
   ]
  },
  {
   "cell_type": "markdown",
   "id": "d663a778",
   "metadata": {},
   "source": [
    "### Part 1. Setup"
   ]
  },
  {
   "cell_type": "code",
   "execution_count": 2,
   "id": "b6c27936",
   "metadata": {},
   "outputs": [
    {
     "name": "stdout",
     "output_type": "stream",
     "text": [
      "Folder 'results\\run_LSTM' was created to store the results.\n"
     ]
    }
   ],
   "source": [
    "# Load configuration\n",
    "config = yaml.safe_load(open(\"files/camels_gb.yml\"))\n",
    "\n",
    "# Modify configuration\n",
    "config[\"experiment_name\"] = \"CAMELS-GB_LSTM-064_NSE\"\n",
    "config[\"path_save_folder\"] = \"results/run_LSTM\"\n",
    "config[\"model\"] = \"CudaLSTM\"\n",
    "\n",
    "# Convert into 'Config' object\n",
    "config = Config(config)"
   ]
  },
  {
   "cell_type": "markdown",
   "id": "05d38dc6",
   "metadata": {},
   "source": [
    "### Part 2. Load data"
   ]
  },
  {
   "cell_type": "code",
   "execution_count": 3,
   "id": "d68921c4",
   "metadata": {},
   "outputs": [
    {
     "name": "stdout",
     "output_type": "stream",
     "text": [
      "2025-08-29 14:55:02 - Loading data from CAMELS_GB dataset...\n",
      "2025-08-29 14:55:02 - Loading training data...\n"
     ]
    },
    {
     "name": "stderr",
     "output_type": "stream",
     "text": [
      "Processing entities: 100%|##########| 7/7 [00:00<00:00, 26.79entity/s]\n"
     ]
    },
    {
     "name": "stdout",
     "output_type": "stream",
     "text": [
      "2025-08-29 14:55:02 - Loading validation data...\n"
     ]
    },
    {
     "name": "stderr",
     "output_type": "stream",
     "text": [
      "Processing entities: 100%|##########| 3/3 [00:00<00:00, 35.39entity/s]\n"
     ]
    },
    {
     "name": "stdout",
     "output_type": "stream",
     "text": [
      "2025-08-29 14:55:02 - Basins without valid samples in period of interest: ['18014']\n",
      "2025-08-29 14:55:02 - Number of valid samples\n",
      "2025-08-29 14:55:02 -    Training:      36,260\n",
      "2025-08-29 14:55:02 -    Validation:     2,926\n",
      "2025-08-29 14:55:02 - Time required to process load data: 0:00:00\n",
      "2025-08-29 14:55:02 - -------------------- Details DataLoader --------------------\n",
      "2025-08-29 14:55:02 -              Key              |            Shape             \n",
      "2025-08-29 14:55:10 - x_d\n",
      "2025-08-29 14:55:10 -         precipitation         |    torch.Size([256, 730])    \n",
      "2025-08-29 14:55:10 -              peti             |    torch.Size([256, 730])    \n",
      "2025-08-29 14:55:10 -          temperature          |    torch.Size([256, 730])    \n",
      "2025-08-29 14:55:10 - x_s                           |    torch.Size([256, 22])     \n",
      "2025-08-29 14:55:10 - y_obs                         |  torch.Size([256, 365, 1])   \n",
      "2025-08-29 14:55:10 - x_d_conceptual\n",
      "2025-08-29 14:55:10 -         precipitation         |    torch.Size([256, 730])    \n",
      "2025-08-29 14:55:10 -              pet              |    torch.Size([256, 730])    \n",
      "2025-08-29 14:55:10 -          temperature          |    torch.Size([256, 730])    \n",
      "2025-08-29 14:55:10 - std_basin                     |  torch.Size([256, 365, 1])   \n",
      "2025-08-29 14:55:10 - basin                         |            (256,)            \n",
      "2025-08-29 14:55:10 - date                          |          (256, 365)          \n",
      "2025-08-29 14:55:10 - Training batches: 141\n",
      "2025-08-29 14:55:10 - Validation batches: 12\n"
     ]
    }
   ],
   "source": [
    "# Get data\n",
    "handler_data = DataHandler(config)\n",
    "handler_data.load_data()\n",
    "\n",
    "basin_ids = handler_data.get_basin_ids()\n",
    "\n",
    "loader_training = handler_data.get_loader(\"training\")\n",
    "loader_validation = handler_data.get_loader(\"validation\")\n",
    "dataloaders = {\n",
    "    \"training\": loader_training,\n",
    "    \"validation\": loader_validation\n",
    "}"
   ]
  },
  {
   "cell_type": "markdown",
   "id": "5af18420",
   "metadata": {},
   "source": [
    "### Part 3. Model"
   ]
  },
  {
   "cell_type": "code",
   "execution_count": 4,
   "id": "3564e534",
   "metadata": {},
   "outputs": [],
   "source": [
    "# Initialize model\n",
    "set_random_seed(cfg=config)\n",
    "model = get_model(config).to(config.device)"
   ]
  },
  {
   "cell_type": "markdown",
   "id": "bc906684",
   "metadata": {},
   "source": [
    "### Part 4. Training"
   ]
  },
  {
   "cell_type": "code",
   "execution_count": 5,
   "id": "00592987",
   "metadata": {},
   "outputs": [],
   "source": [
    "# Start trainer\n",
    "handler_training = Trainer(config, dataloaders, model)\n",
    "\n",
    "# Get list of learning rates\n",
    "num_epochs = config.epochs\n",
    "\n",
    "lrs = list(range(1, num_epochs + 1))\n",
    "lrs = [config.learning_rate[max(k for k in config.learning_rate if k <= num)] for num in lrs]"
   ]
  },
  {
   "cell_type": "code",
   "execution_count": 7,
   "id": "040f3415",
   "metadata": {},
   "outputs": [
    {
     "name": "stdout",
     "output_type": "stream",
     "text": [
      "2025-08-29 14:55:37 - Starting training\n",
      "2025-08-29 14:55:37 -       |          |           Trainining           |           Validation           |\n",
      "2025-08-29 14:55:37 - Epoch |    LR    |   Loss   |   NSE    |   Time   |   Loss   |   NSE    |   Time   |\n"
     ]
    },
    {
     "name": "stderr",
     "output_type": "stream",
     "text": [
      "Epochs:  25%|#######7                       | 1/4 [01:41<05:03, 101.24s/epoch]"
     ]
    },
    {
     "name": "stdout",
     "output_type": "stream",
     "text": [
      "2025-08-29 14:57:18 -   1   | 1.0e-03  |  0.0593  |  0.4400  | 0:01:41  |          |          |          |\n"
     ]
    },
    {
     "name": "stderr",
     "output_type": "stream",
     "text": [
      "Epochs:  50%|###############5               | 2/4 [03:31<03:32, 106.33s/epoch]"
     ]
    },
    {
     "name": "stdout",
     "output_type": "stream",
     "text": [
      "2025-08-29 14:59:08 -   2   | 1.0e-03  |  0.0326  |  0.4400  | 0:01:37  |  1.5021  |  0.8800  | 0:00:12  |\n"
     ]
    },
    {
     "name": "stderr",
     "output_type": "stream",
     "text": [
      "Epochs:  75%|#######################2       | 3/4 [05:13<01:44, 104.66s/epoch]"
     ]
    },
    {
     "name": "stdout",
     "output_type": "stream",
     "text": [
      "2025-08-29 15:00:51 -   3   | 1.0e-03  |  0.0273  |  0.4400  | 0:01:42  |          |          |          |\n"
     ]
    },
    {
     "name": "stderr",
     "output_type": "stream",
     "text": [
      "                                                                              "
     ]
    },
    {
     "name": "stdout",
     "output_type": "stream",
     "text": [
      "2025-08-29 15:02:45 -   4   | 1.0e-03  |  0.0241  |  0.4400  | 0:01:42  |  1.4725  |  0.8800  | 0:00:11  |\n",
      "2025-08-29 15:02:45 - Run completed successfully\n",
      "2025-08-29 15:02:45 - Total run time: 0:07:08\n"
     ]
    },
    {
     "name": "stderr",
     "output_type": "stream",
     "text": [
      "\r"
     ]
    }
   ],
   "source": [
    "# Start training and report\n",
    "config.logger.info(\"Starting training\")\n",
    "config.logger.info(f\"{'':^5} | {'':^8} | {'Trainining':^30} | {'Validation':^30} |\")\n",
    "config.logger.info(f\"{'Epoch':^5} | {'LR':^8} | {'Loss':^8} | {'NSE':^8} | {'Time':^8} | {'Loss':^8} | {'NSE':^8} | {'Time':^8} |\")\n",
    "\n",
    "time_training = time.time()\n",
    "for epoch in trange(num_epochs, desc=\"Epochs\", ncols=78, ascii=True, unit=\"epoch\", leave=False):\n",
    "    # Set learning rate\n",
    "    handler_training.optimizer.update_optimizer_lr(epoch=(epoch + 1))\n",
    "\n",
    "    # Train\n",
    "    loss_train, time_train = handler_training.run_epoch(\"training\")\n",
    "    if (epoch + 1) % config.validate_every != 0:\n",
    "        config.logger.info(f\"{epoch + 1:^5} | {lrs[epoch]:^8.1e} | {loss_train:^8.4f} | {0.44:^8.4f} | {time_train:^8} | {'':^8} | {'':^8} | {'':^8} |\")\n",
    "        continue\n",
    "    \n",
    "    # Validate\n",
    "    loss_val, time_val = handler_training.run_epoch(\"validation\")\n",
    "    config.logger.info(f\"{epoch + 1:^5} | {lrs[epoch]:^8.1e} | {loss_train:^8.4f} | {0.44:^8.4f} | {time_train:^8} | {loss_val:^8.4f} | {0.88:^8.4f} | {time_val:^8} |\")\n",
    "\n",
    "# Finish training\n",
    "time_training = str(datetime.timedelta(seconds=int(time.time() - time_training)))\n",
    "config.logger.info(\"Run completed successfully\")\n",
    "config.logger.info(f\"Total run time: {time_training}\")"
   ]
  },
  {
   "cell_type": "markdown",
   "id": "35b6eb49",
   "metadata": {},
   "source": [
    "### Part 5. Postprocess model"
   ]
  },
  {
   "cell_type": "code",
   "execution_count": 8,
   "id": "763d8676",
   "metadata": {},
   "outputs": [
    {
     "name": "stdout",
     "output_type": "stream",
     "text": [
      "2025-08-29 15:02:57 - Loading testing data...\n",
      "2025-08-29 15:02:58 - Testing data loaded in 0:00:00\n"
     ]
    },
    {
     "name": "stderr",
     "output_type": "stream",
     "text": [
      "Basins: 100%|################################| 7/7 [01:19<00:00, 11.41s/basin]\n"
     ]
    }
   ],
   "source": [
    "handler_postprocessing = Postprocessor(config)\n",
    "results = handler_postprocessing.postprocess(model)"
   ]
  },
  {
   "cell_type": "code",
   "execution_count": 9,
   "id": "29308591",
   "metadata": {},
   "outputs": [
    {
     "data": {
      "image/png": "[encoded data removed]",
      "text/plain": [
       "<Figure size 640x480 with 1 Axes>"
      ]
     },
     "metadata": {},
     "output_type": "display_data"
    }
   ],
   "source": [
    "fig, ax = plt.subplots()\n",
    "results.sel(basin=\"15006\").y_obs.plot(ax=ax, label=\"Observed\", color=\"tab:blue\")\n",
    "results.sel(basin=\"15006\").y_hat.plot(ax=ax, label=\"Predicted\", color=\"tab:orange\")\n",
    "plt.show()"
   ]
  }
 ],
 "metadata": {
  "kernelspec": {
   "display_name": "project-hybrid-models (3.12.11)",
   "language": "python",
   "name": "python3"
  },
  "language_info": {
   "codemirror_mode": {
    "name": "ipython",
    "version": 3
   },
   "file_extension": ".py",
   "mimetype": "text/x-python",
   "name": "python",
   "nbconvert_exporter": "python",
   "pygments_lexer": "ipython3",
   "version": "3.12.11"
  }
 },
 "nbformat": 4,
 "nbformat_minor": 5
}
