{
 "cells": [
  {
   "cell_type": "code",
   "execution_count": null,
   "id": "919d181c",
   "metadata": {},
   "outputs": [],
   "source": [
    "import datetime\n",
    "import time\n",
    "\n",
    "import matplotlib.pyplot as plt\n",
    "import torch\n",
    "import yaml\n",
    "from hy2dl.modelzoo import get_model\n",
    "from hy2dl.utils.config import Config\n",
    "from hy2dl.utils.utils import set_random_seed\n",
    "from utilities.data import DataHandler\n",
    "from utilities.postprocessing import Postprocessor\n",
    "from utilities.training import Trainer"
   ]
  },
  {
   "cell_type": "markdown",
   "id": "d663a778",
   "metadata": {},
   "source": [
    "### Part 1. Setup"
   ]
  },
  {
   "cell_type": "code",
   "execution_count": null,
   "id": "b6c27936",
   "metadata": {},
   "outputs": [],
   "source": [
    "# Load configuration\n",
    "config = yaml.safe_load(open(\"files/camels_gb.yml\"))\n",
    "\n",
    "# Modify configuration\n",
    "config[\"experiment_name\"] = \"CAMELS-GB_LSTM-064_NSE\"\n",
    "config[\"path_save_folder\"] = \"results/run_LSTM\"\n",
    "config[\"model\"] = \"CudaLSTM\"\n",
    "\n",
    "# Convert into 'Config' object\n",
    "config = Config(config)\n",
    "config.init_experiment()\n",
    "config.dump()"
   ]
  },
  {
   "cell_type": "markdown",
   "id": "05d38dc6",
   "metadata": {},
   "source": [
    "### Part 2. Load data"
   ]
  },
  {
   "cell_type": "code",
   "execution_count": null,
   "id": "d68921c4",
   "metadata": {},
   "outputs": [],
   "source": [
    "# Get data\n",
    "handler_data = DataHandler(config)\n",
    "handler_data.load_data()\n",
    "\n",
    "basin_ids = handler_data.get_basin_ids()\n",
    "\n",
    "loader_training = handler_data.get_loader(\"training\")\n",
    "loader_validation = handler_data.get_loader(\"validation\")\n",
    "dataloaders = {\n",
    "    \"training\": loader_training,\n",
    "    \"validation\": loader_validation\n",
    "}"
   ]
  },
  {
   "cell_type": "markdown",
   "id": "5af18420",
   "metadata": {},
   "source": [
    "### Part 3. Model"
   ]
  },
  {
   "cell_type": "code",
   "execution_count": null,
   "id": "3564e534",
   "metadata": {},
   "outputs": [],
   "source": [
    "# Initialize model\n",
    "set_random_seed(cfg=config)\n",
    "model = get_model(config).to(config.device)"
   ]
  },
  {
   "cell_type": "code",
   "execution_count": null,
   "id": "18569dcb",
   "metadata": {},
   "outputs": [],
   "source": [
    "# Load model\n",
    "model.load_state_dict(\n",
    "    torch.load(config.path_save_folder / \"model/model_epoch_09.pt\")\n",
    ")"
   ]
  },
  {
   "cell_type": "markdown",
   "id": "bc906684",
   "metadata": {},
   "source": [
    "### Part 4. Training"
   ]
  },
  {
   "cell_type": "code",
   "execution_count": null,
   "id": "00592987",
   "metadata": {},
   "outputs": [],
   "source": [
    "# Start trainer\n",
    "handler_training = Trainer(config, dataloaders, model)\n",
    "\n",
    "# Get list of learning rates\n",
    "num_epochs = config.epochs\n",
    "\n",
    "lrs = list(range(1, num_epochs + 1))\n",
    "lrs = [config.learning_rate[max(k for k in config.learning_rate if k <= num)] for num in lrs]"
   ]
  },
  {
   "cell_type": "code",
   "execution_count": null,
   "id": "040f3415",
   "metadata": {},
   "outputs": [],
   "source": [
    "# Start training and report\n",
    "config.logger.info(\"Starting training\")\n",
    "config.logger.info(f\"{'':^5} | {'':^8} | {'Trainining':^30} | {'Validation':^30} |\")\n",
    "config.logger.info(f\"{'Epoch':^5} | {'LR':^8} | {'Loss':^8} | {'NSE':^8} | {'Time':^8} | {'Loss':^8} | {'NSE':^8} | {'Time':^8} |\")\n",
    "\n",
    "time_training = time.time()\n",
    "for epoch in range(num_epochs):\n",
    "    # Set learning rate\n",
    "    handler_training.optimizer.update_optimizer_lr(epoch=(epoch + 1))\n",
    "\n",
    "    # Train\n",
    "    loss_train, nse_train, time_train = handler_training.run_epoch(\"training\")\n",
    "    if (epoch + 1) % config.validate_every != 0:\n",
    "        config.logger.info(f\"{epoch + 1:^5} | {lrs[epoch]:^8.1e} | {loss_train:^8.4f} | {nse_train:^8.4f} | {time_train:^8} | {'':^8} | {'':^8} | {'':^8} |\")\n",
    "        continue\n",
    "    \n",
    "    # Validate\n",
    "    loss_val, nse_val, time_val = handler_training.run_epoch(\"validation\")\n",
    "    config.logger.info(f\"{epoch + 1:^5} | {lrs[epoch]:^8.1e} | {loss_train:^8.4f} | {nse_train:^8.4f} | {time_train:^8} | {loss_val:^8.4f} | {nse_val:^8.4f} | {time_val:^8} |\")\n",
    "\n",
    "# Finish training\n",
    "time_training = str(datetime.timedelta(seconds=int(time.time() - time_training)))\n",
    "config.logger.info(\"Run completed successfully\")\n",
    "config.logger.info(f\"Total run time: {time_training}\")"
   ]
  },
  {
   "cell_type": "markdown",
   "id": "35b6eb49",
   "metadata": {},
   "source": [
    "### Part 5. Postprocess model"
   ]
  },
  {
   "cell_type": "code",
   "execution_count": null,
   "id": "763d8676",
   "metadata": {},
   "outputs": [],
   "source": [
    "handler_postprocessing = Postprocessor(config)\n",
    "results = handler_postprocessing.postprocess(model)"
   ]
  },
  {
   "cell_type": "code",
   "execution_count": null,
   "id": "29308591",
   "metadata": {},
   "outputs": [],
   "source": [
    "basin_id = \"73014\"\n",
    "\n",
    "fig, ax = plt.subplots(figsize=(30, 5))\n",
    "results.sel(basin=basin_id, last_n=365).y_obs.plot(ax=ax, label=\"Observed\", color=\"tab:blue\")\n",
    "results.sel(basin=basin_id, last_n=365).y_hat.plot(ax=ax, label=\"Predicted\", color=\"tab:orange\")\n",
    "plt.show()"
   ]
  }
 ],
 "metadata": {
  "kernelspec": {
   "display_name": "project-hybrid-models (3.12.11)",
   "language": "python",
   "name": "python3"
  },
  "language_info": {
   "codemirror_mode": {
    "name": "ipython",
    "version": 3
   },
   "file_extension": ".py",
   "mimetype": "text/x-python",
   "name": "python",
   "nbconvert_exporter": "python",
   "pygments_lexer": "ipython3",
   "version": "3.12.11"
  }
 },
 "nbformat": 4,
 "nbformat_minor": 5
}
